{
 "cells": [
  {
   "cell_type": "code",
   "execution_count": 1,
   "metadata": {},
   "outputs": [],
   "source": [
    "import csv\n",
    "from functools import reduce\n",
    "import math\n",
    "import json"
   ]
  },
  {
   "cell_type": "code",
   "execution_count": 2,
   "metadata": {},
   "outputs": [],
   "source": [
    "class User: # пользователь\n",
    "    name = ''\n",
    "    movies_rates = {}\n",
    "    movies_by_places = {}\n",
    "    movies_by_days = {}\n",
    "    avg_rate = 0\n",
    "    sim_users = {}"
   ]
  },
  {
   "cell_type": "code",
   "execution_count": 3,
   "metadata": {},
   "outputs": [],
   "source": [
    "def parse_movie_names(row):\n",
    "    row = list(map(lambda name: name.strip(), row))\n",
    "    return list(filter(lambda name: name != '', row))"
   ]
  },
  {
   "cell_type": "code",
   "execution_count": 4,
   "metadata": {},
   "outputs": [],
   "source": [
    "def load_data(filename):\n",
    "    data_file = open(filename)\n",
    "    reader = csv.reader(data_file)\n",
    "    \n",
    "    movie_names = parse_movie_names(next(reader))\n",
    "    users_data = {}\n",
    "    \n",
    "    for row in reader:\n",
    "        users_data[row[0]] = dict(zip(movie_names, [value.strip() for value in row[1:]]))\n",
    "        \n",
    "    return users_data"
   ]
  },
  {
   "cell_type": "code",
   "execution_count": 5,
   "metadata": {},
   "outputs": [],
   "source": [
    "def load_users():\n",
    "    users = {}\n",
    "    users_rates = load_data('./data.csv')\n",
    "    for user, movie_rate in users_rates.items():\n",
    "        for movie_name, rate in movie_rate.items():\n",
    "            movie_rate[movie_name] = int(rate)\n",
    "            \n",
    "    users_days = load_data('./context_day.csv')\n",
    "    users_places = load_data('./context_place.csv')\n",
    "    \n",
    "    for user_name in users_rates.keys():\n",
    "        user = User()\n",
    "        user.name = user_name\n",
    "        user.movies_rates = users_rates[user_name]\n",
    "        user.movies_by_days = users_days[user_name]\n",
    "        user.movies_by_places = users_places[user_name]\n",
    "        \n",
    "        users[user_name] = user\n",
    "        \n",
    "    return users"
   ]
  },
  {
   "cell_type": "code",
   "execution_count": 6,
   "metadata": {},
   "outputs": [],
   "source": [
    "def calculate_avg_rate(user): # считаем среднее\n",
    "    valid_rates = list(filter(lambda rate: rate != -1, user.movies_rates.values()))\n",
    "    return reduce(lambda summ, rate: summ + rate, valid_rates, 0) / len(valid_rates)"
   ]
  },
  {
   "cell_type": "code",
   "execution_count": 7,
   "metadata": {},
   "outputs": [],
   "source": [
    "def calculate_and_set_avg(users): # считаем среднее\n",
    "    for user in users.values():\n",
    "        user.avg_rate = calculate_avg_rate(user)"
   ]
  },
  {
   "cell_type": "code",
   "execution_count": 8,
   "metadata": {},
   "outputs": [],
   "source": [
    "def compute_and_set_metrics(users): # составляем метрику сходства\n",
    "    for first_user in users.values(): \n",
    "        first_user.sim_users = {first_user: 0}\n",
    "        for second_user in users.values():\n",
    "            if first_user.name == second_user.name:\n",
    "                continue\n",
    "            s = 0\n",
    "            sq1 = 0\n",
    "            sq2 = 0\n",
    "            for movie_name in first_user.movies_rates.keys():\n",
    "                if first_user.movies_rates[movie_name] != -1 and second_user.movies_rates[movie_name] != -1:\n",
    "                    s += first_user.movies_rates[movie_name] * second_user.movies_rates[movie_name]\n",
    "                    sq1 += math.pow(first_user.movies_rates[movie_name], 2)\n",
    "                    sq2 += math.pow(second_user.movies_rates[movie_name], 2)\n",
    "            sq1 = math.sqrt(sq1)\n",
    "            sq2 = math.sqrt(sq2)\n",
    "            sq = sq1 * sq2\n",
    "            first_user.sim_users[second_user] = s / (sq) if sq != 0 else 0 "
   ]
  },
  {
   "cell_type": "code",
   "execution_count": 9,
   "metadata": {},
   "outputs": [],
   "source": [
    "def compute_missed_rates(user, k):\n",
    "    sorted_sim_users = s = [u[0] for u in sorted(user.sim_users.items(), key=lambda d: d[1], reverse=True)]\n",
    "    result = {}\n",
    "    \n",
    "    print\n",
    "    for (movie_name, movie_rate) in user.movies_rates.items():\n",
    "        if (movie_rate != -1):\n",
    "            continue\n",
    "        \n",
    "        summ1 = 0\n",
    "        summ2 = 0\n",
    "        for other_user in sorted_sim_users[:k]:\n",
    "            if(other_user.movies_rates[movie_name] != -1):\n",
    "                summ1 += user.sim_users[other_user] * (other_user.movies_rates[movie_name] - other_user.avg_rate)\n",
    "                summ2 += user.sim_users[other_user]\n",
    "                \n",
    "        result[movie_name] = round(user.avg_rate + summ1/summ2, 3)\n",
    "    return result"
   ]
  },
  {
   "cell_type": "code",
   "execution_count": 10,
   "metadata": {},
   "outputs": [],
   "source": [
    "def calculate_movies_popularity(users, places, days):\n",
    "    movies_by_popularity = {}\n",
    "    for user in users.values():\n",
    "        for movie_name in user.movies_rates.keys():\n",
    "            if movie_name not in movies_by_popularity:\n",
    "                movies_by_popularity[movie_name] = 0\n",
    "\n",
    "            movies_by_popularity[movie_name] += 1 if user.movies_by_places[movie_name] in places else 0\n",
    "            movies_by_popularity[movie_name] += 1 if user.movies_by_days[movie_name] in days else 0\n",
    "    return movies_by_popularity"
   ]
  },
  {
   "cell_type": "code",
   "execution_count": 11,
   "metadata": {},
   "outputs": [],
   "source": [
    "def recommend_movie(users, target_user):\n",
    "    movies_popularity = calculate_movies_popularity(users, ['h'], ['Sun', 'Sat'])\n",
    "    unwatched_movies = compute_missed_rates(target_user, 4)\n",
    "\n",
    "    \n",
    "    sorted_movies_by_popularity = [u[0] for u in sorted(movies_popularity.items(), key=lambda d: d[1], reverse=True)]\n",
    "\n",
    "    for movie_name in sorted_movies_by_popularity:\n",
    "        if movie_name in unwatched_movies.keys() and unwatched_movies[movie_name] > 2.0:\n",
    "            return movie_name\n",
    "    return None"
   ]
  },
  {
   "cell_type": "code",
   "execution_count": 20,
   "metadata": {},
   "outputs": [],
   "source": [
    "def print_to_file(recommended_movie, missed_rates, target_user):\n",
    "    predictions = []\n",
    "    for movie_name, movie_rate in missed_rates.items():\n",
    "        predictions.append ({\n",
    "        'movie': movie_name ,\n",
    "        'rate': movie_rate\n",
    "        })        \n",
    "        \n",
    "    result = {\n",
    "        'user_name': target_user.name,\n",
    "        'predictions': predictions,\n",
    "        'recommended_movie': recommended_movie\n",
    "    }\n",
    "    with open('result.json', 'w') as outfile:\n",
    "            json.dump(result, outfile, indent=2);"
   ]
  },
  {
   "cell_type": "code",
   "execution_count": 13,
   "metadata": {},
   "outputs": [],
   "source": [
    "def print_to_console(recommended_movie, missed_rates):\n",
    "    print('Рекомендован ', recommended_movie)\n",
    "    for movie_name, movie_rate in missed_rates.items():\n",
    "        print(movie_name, movie_rate)"
   ]
  },
  {
   "cell_type": "code",
   "execution_count": 21,
   "metadata": {},
   "outputs": [
    {
     "name": "stdout",
     "output_type": "stream",
     "text": [
      "Рекомендован  Movie 27\n",
      "Movie 6 2.898\n",
      "Movie 11 3.308\n",
      "Movie 12 3.308\n",
      "Movie 20 2.299\n",
      "Movie 27 2.918\n",
      "Movie 28 2.284\n"
     ]
    }
   ],
   "source": [
    "users = load_users()\n",
    "target_user = users['User 15']\n",
    "\n",
    "calculate_and_set_avg(users)\n",
    "compute_and_set_metrics(users)\n",
    "\n",
    "recommended_movie = recommend_movie(users, target_user)\n",
    "missed_rates = compute_missed_rates(target_user, 4)\n",
    "\n",
    "print_to_console(recommended_movie, missed_rates)\n",
    "print_to_file(recommended_movie, missed_rates, target_user)"
   ]
  },
  {
   "cell_type": "code",
   "execution_count": null,
   "metadata": {},
   "outputs": [],
   "source": []
  }
 ],
 "metadata": {
  "kernelspec": {
   "display_name": "Python 3",
   "language": "python",
   "name": "python3"
  },
  "language_info": {
   "codemirror_mode": {
    "name": "ipython",
    "version": 3
   },
   "file_extension": ".py",
   "mimetype": "text/x-python",
   "name": "python",
   "nbconvert_exporter": "python",
   "pygments_lexer": "ipython3",
   "version": "3.6.8"
  }
 },
 "nbformat": 4,
 "nbformat_minor": 2
}
