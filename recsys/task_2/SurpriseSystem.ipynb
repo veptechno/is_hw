{
 "cells": [
  {
   "cell_type": "code",
   "execution_count": 8,
   "metadata": {},
   "outputs": [],
   "source": [
    "import io\n",
    "from surprise import KNNWithMeans\n",
    "from surprise import Dataset\n",
    "from surprise import get_dataset_dir\n",
    "from collections import defaultdict\n",
    "import json"
   ]
  },
  {
   "cell_type": "code",
   "execution_count": 2,
   "metadata": {},
   "outputs": [],
   "source": [
    "k = 4\n",
    "min_movies= 5"
   ]
  },
  {
   "cell_type": "code",
   "execution_count": 3,
   "metadata": {},
   "outputs": [],
   "source": [
    "def read_item_names():\n",
    "    file_name = get_dataset_dir() + '/ml-100k/ml-100k/u.item'\n",
    "    rid_to_name = {}\n",
    "    with io.open(file_name, 'r', encoding='ISO-8859-1') as f:\n",
    "        for line in f:\n",
    "            line = line.split('|')\n",
    "            rid_to_name[line[0]] = (line[1], line[2])\n",
    "    return rid_to_name\n"
   ]
  },
  {
   "cell_type": "code",
   "execution_count": 4,
   "metadata": {},
   "outputs": [],
   "source": [
    "def get_top_n(predictions, n=5):\n",
    "    top_n = defaultdict(list)\n",
    "    for uid, iid, true_r, est, _ in predictions:\n",
    "        top_n[uid].append((iid, round(est, 3)))\n",
    "    for uid, user_ratings in top_n.items():\n",
    "        user_ratings.sort(key=lambda x: x[1], reverse=True)\n",
    "        top_n[uid] = user_ratings[:n]\n",
    "    return top_n"
   ]
  },
  {
   "cell_type": "code",
   "execution_count": 5,
   "metadata": {},
   "outputs": [],
   "source": [
    "def print_to_console(user_id, predictions):\n",
    "    print('User ID: ', user_id)\n",
    "    for prediction in predictions:\n",
    "        print('{:4s} {:<60s} {}'.format(prediction['id'], prediction['name'], prediction['rating']))    "
   ]
  },
  {
   "cell_type": "code",
   "execution_count": 6,
   "metadata": {},
   "outputs": [],
   "source": [
    "def print_to_file(user_id, predictions):     \n",
    "    result = {\n",
    "        'user_id': user_id,\n",
    "        'predictions': predictions\n",
    "    }\n",
    "    with open('result.json', 'w') as outfile:\n",
    "            json.dump(result, outfile, indent=2);"
   ]
  },
  {
   "cell_type": "code",
   "execution_count": 9,
   "metadata": {},
   "outputs": [
    {
     "name": "stdout",
     "output_type": "stream",
     "text": [
      "ID: 15\n",
      "Estimating biases using als...\n",
      "Computing the cosine similarity matrix...\n",
      "Done computing similarity matrix.\n",
      "User ID:  15\n",
      "1536 ('Aiqing wansui (1994)', '22-Jul-1996')                      4.938\n",
      "814  ('Great Day in Harlem, A (1994)', '01-Jan-1994')             4.888\n",
      "1512 ('World of Apu, The (Apur Sansar) (1959)', '05-Apr-1996')    4.672\n",
      "1599 (\"Someone Else's America (1995)\", '10-May-1996')             4.613\n",
      "1500 ('Santa with Muscles (1996)', '08-Nov-1996')                 4.61\n"
     ]
    }
   ],
   "source": [
    "user_id = input('ID: ')\n",
    "\n",
    "data = Dataset.load_builtin('ml-100k')\n",
    "trainset = data.build_full_trainset()\n",
    "sim_options = {\n",
    "    'name': 'cosine', \n",
    "    'user_based': True, \n",
    "    'min_support': min_movies\n",
    "}\n",
    "algo = KNNWithMeans(k=4, min_k=k, sim_options=sim_options, verbose=True)\n",
    "algo.fit(trainset)\n",
    "\n",
    "\n",
    "testset = trainset.build_anti_testset()\n",
    "testset = list(filter(lambda x: x[0] == user_id, testset))\n",
    "predictions = algo.test(testset)\n",
    "\n",
    "\n",
    "top_n = get_top_n(predictions)\n",
    "top_n = top_n[user_id]\n",
    " \n",
    "movie_names = read_item_names()\n",
    "\n",
    "predictions = []\n",
    "for movie_rid, rating in top_n:\n",
    "    prediction = {}\n",
    "    prediction['id'] = movie_rid\n",
    "    prediction['name'] = str(movie_names[movie_rid])\n",
    "    prediction['rating'] = rating\n",
    "    \n",
    "    predictions.append(prediction)\n",
    "    \n",
    "print_to_console(user_id, predictions)\n",
    "print_to_file(user_id, predictions)"
   ]
  }
 ],
 "metadata": {
  "kernelspec": {
   "display_name": "Python 3",
   "language": "python",
   "name": "python3"
  },
  "language_info": {
   "codemirror_mode": {
    "name": "ipython",
    "version": 3
   },
   "file_extension": ".py",
   "mimetype": "text/x-python",
   "name": "python",
   "nbconvert_exporter": "python",
   "pygments_lexer": "ipython3",
   "version": "3.6.8"
  }
 },
 "nbformat": 4,
 "nbformat_minor": 2
}
