{
 "cells": [
  {
   "cell_type": "code",
   "execution_count": 2,
   "metadata": {},
   "outputs": [],
   "source": [
    "from SPARQLWrapper import SPARQLWrapper, JSON\n",
    "import requests"
   ]
  },
  {
   "cell_type": "code",
   "execution_count": 3,
   "metadata": {},
   "outputs": [],
   "source": [
    "API_ENDPOINT = \"https://www.wikidata.org/w/api.php\""
   ]
  },
  {
   "cell_type": "code",
   "execution_count": 4,
   "metadata": {},
   "outputs": [],
   "source": [
    "query = \"Spirited away\""
   ]
  },
  {
   "cell_type": "code",
   "execution_count": 5,
   "metadata": {},
   "outputs": [],
   "source": [
    "params = {\n",
    " 'action' : 'wbsearchentities',\n",
    " 'format' : 'json',\n",
    " 'language' : 'en',\n",
    " 'search': query\n",
    "}"
   ]
  },
  {
   "cell_type": "code",
   "execution_count": 13,
   "metadata": {},
   "outputs": [
    {
     "name": "stdout",
     "output_type": "stream",
     "text": [
      "{'searchinfo': {'search': 'Spirited away'}, 'search': [{'repository': '', 'id': 'Q155653', 'concepturi': 'http://www.wikidata.org/entity/Q155653', 'title': 'Q155653', 'pageid': 156828, 'url': '//www.wikidata.org/wiki/Q155653', 'label': 'Spirited Away', 'description': '2001 Japanese animated film directed by Hayao Miyazaki', 'match': {'type': 'label', 'language': 'en', 'text': 'Spirited Away'}}, {'repository': '', 'id': 'Q2443949', 'concepturi': 'http://www.wikidata.org/entity/Q2443949', 'title': 'Q2443949', 'pageid': 2360583, 'url': '//www.wikidata.org/wiki/Q2443949', 'label': 'kamikakushi', 'description': 'trope in Japanese mythology about people being abducted by an angry god', 'match': {'type': 'alias', 'language': 'en', 'text': 'spirited away'}, 'aliases': ['spirited away']}, {'repository': '', 'id': 'Q65943447', 'concepturi': 'http://www.wikidata.org/entity/Q65943447', 'title': 'Q65943447', 'pageid': 65572547, 'url': '//www.wikidata.org/wiki/Q65943447', 'label': 'Spirited Away', 'description': 'episode of Unforgettable (S1 E11)', 'match': {'type': 'label', 'language': 'en', 'text': 'Spirited Away'}}], 'success': 1}\n"
     ]
    },
    {
     "data": {
      "text/plain": [
       "'2001 Japanese animated film directed by Hayao Miyazaki'"
      ]
     },
     "execution_count": 13,
     "metadata": {},
     "output_type": "execute_result"
    }
   ],
   "source": [
    "res = requests.get(API_ENDPOINT, params = params)\n",
    "print(res.json())\n",
    "res.json()['search'][0]['description']"
   ]
  },
  {
   "cell_type": "code",
   "execution_count": 7,
   "metadata": {},
   "outputs": [
    {
     "data": {
      "text/plain": [
       "'Q155653'"
      ]
     },
     "execution_count": 7,
     "metadata": {},
     "output_type": "execute_result"
    }
   ],
   "source": [
    "res.json()['search'][0]['id']"
   ]
  },
  {
   "cell_type": "code",
   "execution_count": 8,
   "metadata": {},
   "outputs": [],
   "source": [
    "sparql = SPARQLWrapper(\"https://query.wikidata.org/sparql\")\n",
    "\n",
    "spaqrql_query = \"\"\"\n",
    "SELECT ?actor ?actorLabel \n",
    "WHERE {\n",
    " ?film wdt:P31 wd:Q11424.\n",
    " ?film wdt:P161 ?actor.\n",
    " FILTER(?film = wd:Q104123)\n",
    " SERVICE wikibase:label { bd:serviceParam wikibase:language \"[AUTO_LANGUAGE],en\".}\n",
    " }\n",
    "\"\"\"\n",
    "\n",
    "sparql.setQuery(spaqrql_query)\n",
    "\n",
    "sparql.setReturnFormat(JSON)\n",
    "results = sparql.query().convert()\n"
   ]
  },
  {
   "cell_type": "code",
   "execution_count": 11,
   "metadata": {},
   "outputs": [
    {
     "ename": "TypeError",
     "evalue": "list indices must be integers or slices, not list",
     "output_type": "error",
     "traceback": [
      "\u001b[0;31m---------------------------------------------------------------------------\u001b[0m",
      "\u001b[0;31mTypeError\u001b[0m                                 Traceback (most recent call last)",
      "\u001b[0;32m<ipython-input-11-da4131fb5b26>\u001b[0m in \u001b[0;36m<module>\u001b[0;34m\u001b[0m\n\u001b[1;32m      1\u001b[0m \u001b[0mresults_df\u001b[0m \u001b[0;34m=\u001b[0m \u001b[0mresults\u001b[0m\u001b[0;34m[\u001b[0m\u001b[0;34m'results'\u001b[0m\u001b[0;34m]\u001b[0m\u001b[0;34m[\u001b[0m\u001b[0;34m'bindings'\u001b[0m\u001b[0;34m]\u001b[0m\u001b[0;34m\u001b[0m\u001b[0;34m\u001b[0m\u001b[0m\n\u001b[0;32m----> 2\u001b[0;31m \u001b[0mresults_df\u001b[0m\u001b[0;34m[\u001b[0m\u001b[0;34m[\u001b[0m\u001b[0;34m'actor.value'\u001b[0m\u001b[0;34m,\u001b[0m \u001b[0;34m'actorLabel.value'\u001b[0m\u001b[0;34m]\u001b[0m\u001b[0;34m]\u001b[0m\u001b[0;34m.\u001b[0m\u001b[0mhead\u001b[0m\u001b[0;34m(\u001b[0m\u001b[0;34m)\u001b[0m\u001b[0;34m\u001b[0m\u001b[0;34m\u001b[0m\u001b[0m\n\u001b[0m",
      "\u001b[0;31mTypeError\u001b[0m: list indices must be integers or slices, not list"
     ]
    }
   ],
   "source": [
    "results_df = results['results']['bindings']\n",
    "results_df[['actor.value', 'actorLabel.value']].head()"
   ]
  },
  {
   "cell_type": "code",
   "execution_count": 12,
   "metadata": {},
   "outputs": [
    {
     "data": {
      "text/plain": [
       "[{'actor': {'type': 'uri', 'value': 'http://www.wikidata.org/entity/Q2680'},\n",
       "  'actorLabel': {'xml:lang': 'en',\n",
       "   'type': 'literal',\n",
       "   'value': 'Bruce Willis'}},\n",
       " {'actor': {'type': 'uri', 'value': 'http://www.wikidata.org/entity/Q3772'},\n",
       "  'actorLabel': {'xml:lang': 'en',\n",
       "   'type': 'literal',\n",
       "   'value': 'Quentin Tarantino'}},\n",
       " {'actor': {'type': 'uri', 'value': 'http://www.wikidata.org/entity/Q80938'},\n",
       "  'actorLabel': {'xml:lang': 'en',\n",
       "   'type': 'literal',\n",
       "   'value': 'John Travolta'}},\n",
       " {'actor': {'type': 'uri', 'value': 'http://www.wikidata.org/entity/Q104061'},\n",
       "  'actorLabel': {'xml:lang': 'en',\n",
       "   'type': 'literal',\n",
       "   'value': 'Steve Buscemi'}},\n",
       " {'actor': {'type': 'uri', 'value': 'http://www.wikidata.org/entity/Q109232'},\n",
       "  'actorLabel': {'xml:lang': 'en',\n",
       "   'type': 'literal',\n",
       "   'value': 'Rosanna Arquette'}},\n",
       " {'actor': {'type': 'uri', 'value': 'http://www.wikidata.org/entity/Q125017'},\n",
       "  'actorLabel': {'xml:lang': 'en', 'type': 'literal', 'value': 'Uma Thurman'}},\n",
       " {'actor': {'type': 'uri', 'value': 'http://www.wikidata.org/entity/Q164534'},\n",
       "  'actorLabel': {'xml:lang': 'en',\n",
       "   'type': 'literal',\n",
       "   'value': 'Peter Greene'}},\n",
       " {'actor': {'type': 'uri', 'value': 'http://www.wikidata.org/entity/Q172678'},\n",
       "  'actorLabel': {'xml:lang': 'en',\n",
       "   'type': 'literal',\n",
       "   'value': 'Samuel L. Jackson'}},\n",
       " {'actor': {'type': 'uri', 'value': 'http://www.wikidata.org/entity/Q185051'},\n",
       "  'actorLabel': {'xml:lang': 'en',\n",
       "   'type': 'literal',\n",
       "   'value': 'Christopher Walken'}},\n",
       " {'actor': {'type': 'uri', 'value': 'http://www.wikidata.org/entity/Q191132'},\n",
       "  'actorLabel': {'xml:lang': 'en',\n",
       "   'type': 'literal',\n",
       "   'value': 'Harvey Keitel'}},\n",
       " {'actor': {'type': 'uri', 'value': 'http://www.wikidata.org/entity/Q203804'},\n",
       "  'actorLabel': {'xml:lang': 'en', 'type': 'literal', 'value': 'Tim Roth'}},\n",
       " {'actor': {'type': 'uri', 'value': 'http://www.wikidata.org/entity/Q235115'},\n",
       "  'actorLabel': {'xml:lang': 'en',\n",
       "   'type': 'literal',\n",
       "   'value': 'Maria de Medeiros'}},\n",
       " {'actor': {'type': 'uri', 'value': 'http://www.wikidata.org/entity/Q238483'},\n",
       "  'actorLabel': {'xml:lang': 'en',\n",
       "   'type': 'literal',\n",
       "   'value': 'Amanda Plummer'}},\n",
       " {'actor': {'type': 'uri', 'value': 'http://www.wikidata.org/entity/Q240774'},\n",
       "  'actorLabel': {'xml:lang': 'en',\n",
       "   'type': 'literal',\n",
       "   'value': 'Frank Whaley'}},\n",
       " {'actor': {'type': 'uri', 'value': 'http://www.wikidata.org/entity/Q254431'},\n",
       "  'actorLabel': {'xml:lang': 'en',\n",
       "   'type': 'literal',\n",
       "   'value': 'Alexis Arquette'}},\n",
       " {'actor': {'type': 'uri', 'value': 'http://www.wikidata.org/entity/Q270774'},\n",
       "  'actorLabel': {'xml:lang': 'en',\n",
       "   'type': 'literal',\n",
       "   'value': 'Julia Sweeney'}},\n",
       " {'actor': {'type': 'uri', 'value': 'http://www.wikidata.org/entity/Q310315'},\n",
       "  'actorLabel': {'xml:lang': 'en', 'type': 'literal', 'value': 'Ving Rhames'}},\n",
       " {'actor': {'type': 'uri', 'value': 'http://www.wikidata.org/entity/Q318267'},\n",
       "  'actorLabel': {'xml:lang': 'en', 'type': 'literal', 'value': 'Eric Stoltz'}},\n",
       " {'actor': {'type': 'uri', 'value': 'http://www.wikidata.org/entity/Q356541'},\n",
       "  'actorLabel': {'xml:lang': 'en', 'type': 'literal', 'value': 'Phil LaMarr'}},\n",
       " {'actor': {'type': 'uri', 'value': 'http://www.wikidata.org/entity/Q432437'},\n",
       "  'actorLabel': {'xml:lang': 'en',\n",
       "   'type': 'literal',\n",
       "   'value': 'Kathy Griffin'}},\n",
       " {'actor': {'type': 'uri', 'value': 'http://www.wikidata.org/entity/Q453973'},\n",
       "  'actorLabel': {'xml:lang': 'en',\n",
       "   'type': 'literal',\n",
       "   'value': 'Angela Jones'}},\n",
       " {'actor': {'type': 'uri', 'value': 'http://www.wikidata.org/entity/Q514913'},\n",
       "  'actorLabel': {'xml:lang': 'en',\n",
       "   'type': 'literal',\n",
       "   'value': 'Lawrence Bender'}},\n",
       " {'actor': {'type': 'uri', 'value': 'http://www.wikidata.org/entity/Q1016897'},\n",
       "  'actorLabel': {'xml:lang': 'en', 'type': 'literal', 'value': 'Burr Steers'}},\n",
       " {'actor': {'type': 'uri', 'value': 'http://www.wikidata.org/entity/Q1209753'},\n",
       "  'actorLabel': {'xml:lang': 'en', 'type': 'literal', 'value': 'Dick Miller'}},\n",
       " {'actor': {'type': 'uri', 'value': 'http://www.wikidata.org/entity/Q1368224'},\n",
       "  'actorLabel': {'xml:lang': 'en',\n",
       "   'type': 'literal',\n",
       "   'value': 'Joseph Pilato'}},\n",
       " {'actor': {'type': 'uri', 'value': 'http://www.wikidata.org/entity/Q1563838'},\n",
       "  'actorLabel': {'xml:lang': 'en', 'type': 'literal', 'value': 'Emil Sitka'}},\n",
       " {'actor': {'type': 'uri', 'value': 'http://www.wikidata.org/entity/Q2263306'},\n",
       "  'actorLabel': {'xml:lang': 'en',\n",
       "   'type': 'literal',\n",
       "   'value': 'Duane Whitaker'}},\n",
       " {'actor': {'type': 'uri', 'value': 'http://www.wikidata.org/entity/Q2434817'},\n",
       "  'actorLabel': {'xml:lang': 'en',\n",
       "   'type': 'literal',\n",
       "   'value': 'Paul Calderón'}},\n",
       " {'actor': {'type': 'uri', 'value': 'http://www.wikidata.org/entity/Q2924399'},\n",
       "  'actorLabel': {'xml:lang': 'en',\n",
       "   'type': 'literal',\n",
       "   'value': 'Brenda Hillhouse'}},\n",
       " {'actor': {'type': 'uri', 'value': 'http://www.wikidata.org/entity/Q2926038'},\n",
       "  'actorLabel': {'xml:lang': 'en',\n",
       "   'type': 'literal',\n",
       "   'value': 'Bronagh Gallagher'}},\n",
       " {'actor': {'type': 'uri', 'value': 'http://www.wikidata.org/entity/Q3193117'},\n",
       "  'actorLabel': {'xml:lang': 'en',\n",
       "   'type': 'literal',\n",
       "   'value': 'Karen Maruyama'}},\n",
       " {'actor': {'type': 'uri', 'value': 'http://www.wikidata.org/entity/Q3241353'},\n",
       "  'actorLabel': {'xml:lang': 'en', 'type': 'literal', 'value': 'Linda Kaye'}},\n",
       " {'actor': {'type': 'uri', 'value': 'http://www.wikidata.org/entity/Q3856171'},\n",
       "  'actorLabel': {'xml:lang': 'en',\n",
       "   'type': 'literal',\n",
       "   'value': 'Michael Gilden'}},\n",
       " {'actor': {'type': 'uri', 'value': 'http://www.wikidata.org/entity/Q3973186'},\n",
       "  'actorLabel': {'xml:lang': 'en',\n",
       "   'type': 'literal',\n",
       "   'value': 'Stephen Hibbert'}},\n",
       " {'actor': {'type': 'uri', 'value': 'http://www.wikidata.org/entity/Q7647898'},\n",
       "  'actorLabel': {'xml:lang': 'en',\n",
       "   'type': 'literal',\n",
       "   'value': 'Susan Griffiths'}}]"
      ]
     },
     "execution_count": 12,
     "metadata": {},
     "output_type": "execute_result"
    }
   ],
   "source": [
    "results_df"
   ]
  }
 ],
 "metadata": {
  "kernelspec": {
   "display_name": "Python 3",
   "language": "python",
   "name": "python3"
  },
  "language_info": {
   "codemirror_mode": {
    "name": "ipython",
    "version": 3
   },
   "file_extension": ".py",
   "mimetype": "text/x-python",
   "name": "python",
   "nbconvert_exporter": "python",
   "pygments_lexer": "ipython3",
   "version": "3.6.8"
  }
 },
 "nbformat": 4,
 "nbformat_minor": 2
}
