{
 "cells": [
  {
   "cell_type": "markdown",
   "metadata": {},
   "source": [
    "__1. Вывести квадраты всех четных чисел (используя map и filter)?__"
   ]
  },
  {
   "cell_type": "code",
   "execution_count": null,
   "metadata": {},
   "outputs": [],
   "source": [
    "import itertools\n",
    "import time\n",
    "\n",
    "\n",
    "def is_even(x):\n",
    "    return x % 2 == 0\n",
    "\n",
    "def sqr(x): \n",
    "    return x * x\n",
    "\n",
    "even_numbers = filter(is_even, itertools.count(0, 1))\n",
    "squares_of_even_numbers = map(sqr, even_numbers)\n",
    "\n",
    "#Вынес бы куда нибудь в отдельное место или расположил бы ниже, но не тут (всм в Jupyter). \n",
    "#Может функция излишняя, но по идее это отдельная логическая часть которая может иметь имя\n",
    "def print_sequence(sequence, max_lines = 15):\n",
    "    for value in sequence:\n",
    "        if max_lines > 0:\n",
    "            print(value)\n",
    "            max_lines -= 1\n",
    "        else:\n",
    "            print(value, end='\\r')\n",
    "            #Чтобы не спамить в консоль\n",
    "            time.sleep(0.1)\n",
    "            \n",
    "#Просят вывести все квадраты, поэтому выводится вечно\n",
    "print_sequence(squares_of_even_numbers)"
   ]
  },
  {
   "cell_type": "markdown",
   "metadata": {},
   "source": [
    "__2. Дана входная строка и массив чисел, необходимо вернуть строку с теми буквами, которые стоят на указанных местах (используя list comprehensions)?__"
   ]
  },
  {
   "cell_type": "code",
   "execution_count": 50,
   "metadata": {},
   "outputs": [
    {
     "name": "stdout",
     "output_type": "stream",
     "text": [
      "смп\n"
     ]
    }
   ],
   "source": [
    "#Требуемая функция (просят вернуть строку)\n",
    "def extract_letters_from_string(input_string, positions):\n",
    "    required_letters = [input_string[i] for i in positions]\n",
    "    return ''.join(required_letters)\n",
    "\n",
    "print(extract_letters_from_string('Всем привет', [1, 3, 5]))"
   ]
  },
  {
   "cell_type": "markdown",
   "metadata": {},
   "source": [
    "__3. Дана входная строка и массив чисел, необходимо вернуть строку с теми буквами, которые стоят на указанных местах (НЕ используя list comprehensions)?__"
   ]
  },
  {
   "cell_type": "code",
   "execution_count": 51,
   "metadata": {},
   "outputs": [
    {
     "name": "stdout",
     "output_type": "stream",
     "text": [
      "смп\n"
     ]
    }
   ],
   "source": [
    "#Требуемая функция (просят вернуть строку)\n",
    "def extract_letters_from_string(input_string, positions):\n",
    "    required_string = ''\n",
    "    for position in positions:\n",
    "        required_string += input_string[position]\n",
    "    \n",
    "    return required_string\n",
    "\n",
    "print(extract_letters_from_string('Всем привет', [1, 3, 5]))"
   ]
  },
  {
   "cell_type": "markdown",
   "metadata": {},
   "source": [
    "__4. Дан текст (предложения разделены только точками), в котором буквы могут находиться в разных регистрах. Необходимо вернуть текст, в котором все буквы в нижнем регистре, а первые буквы каждого предложения в верхнем.__"
   ]
  },
  {
   "cell_type": "code",
   "execution_count": 52,
   "metadata": {},
   "outputs": [
    {
     "name": "stdout",
     "output_type": "stream",
     "text": [
      "Современные технологии.   Достигли такого уровня. Что высокое качество позиционных исследований. Однозначно определяет каждого участника как способного. Принимать собственные решения касаемо. Дальнейших направлений развития.\n"
     ]
    }
   ],
   "source": [
    "def capitalize_generator(text):\n",
    "    is_new_sentence = True\n",
    "    for letter in text:\n",
    "        if is_new_sentence:\n",
    "            yield letter.upper()\n",
    "        else:\n",
    "            yield letter.lower()\n",
    "            \n",
    "        is_new_sentence = is_new_sentence and letter == ' ' or letter == '.'\n",
    "\n",
    "text = 'СОвреМЕнНЫе ТеХноЛогии.   доСтИглИ такОго УРОвня. чТО высОкое КАчеСтво позиЦИОННЫх ИсслеДОванИЙ. однОзНачНо оПРЕДЕЛяеТ каЖдоГО уЧаСтнИКА каК СпОсОБНОГО. ПрИНимАТь собСтВЕННЫе решЕнИЯ КаСаЕМо. ДАльНейШих нАправлеНИй РАЗВития.'\n",
    "required_text = ''.join(capitalize_generator(text))\n",
    "\n",
    "print(required_text)"
   ]
  },
  {
   "cell_type": "markdown",
   "metadata": {},
   "source": [
    "__5. Реализовать functools.reduce__"
   ]
  },
  {
   "cell_type": "code",
   "execution_count": 53,
   "metadata": {},
   "outputs": [
    {
     "name": "stdout",
     "output_type": "stream",
     "text": [
      "15\n"
     ]
    }
   ],
   "source": [
    "def reduce(function, iterable, initializer = None):\n",
    "    iterator = iter(iterable)\n",
    "    last_value = initializer\n",
    "    if initializer is None:\n",
    "        last_value = next(iterator)\n",
    "    \n",
    "    for value in iterator:\n",
    "        last_value = function(last_value, value)\n",
    "    \n",
    "    return last_value\n",
    "\n",
    "print(reduce(lambda x, y: x+y, [1, 2, 3, 4, 5]))"
   ]
  },
  {
   "cell_type": "markdown",
   "metadata": {},
   "source": [
    "__6. Создайте функцию pipeline_each, в которую вы будете подавать итерируемый объект и список функций, которые последовательно надо к нему применить.__"
   ]
  },
  {
   "cell_type": "code",
   "execution_count": 54,
   "metadata": {},
   "outputs": [
    {
     "name": "stdout",
     "output_type": "stream",
     "text": [
      "0.2\n",
      "0.4\n",
      "0.6000000000000001\n",
      "0.8\n",
      "1.0\n",
      "1.2000000000000002\n",
      "1.4000000000000001\n",
      "1.6\n",
      "1.8\n",
      "2.0\n"
     ]
    }
   ],
   "source": [
    "def pipeline(functions, value):\n",
    "    for function in functions:\n",
    "        value = function(value)\n",
    "    return value\n",
    "\n",
    "def pipeline_each(functions, iterable):\n",
    "    for value in iterable:\n",
    "        yield pipeline(functions, value)\n",
    "        \n",
    "#У меня не хватило фантазии придумать нормальные функции\n",
    "funcs = [\n",
    "    lambda x: x + 1,\n",
    "    lambda x: x * 2,\n",
    "    lambda x: 0.1 * x\n",
    "]\n",
    "values = (i for i in range(10))\n",
    "for calculated_value in pipeline_each(funcs, values):\n",
    "    print(calculated_value)"
   ]
  },
  {
   "cell_type": "markdown",
   "metadata": {},
   "source": [
    "__7. Написать генератор, возвращающий по очереди все слова, входящие в предложение.__"
   ]
  },
  {
   "cell_type": "code",
   "execution_count": 55,
   "metadata": {},
   "outputs": [
    {
     "name": "stdout",
     "output_type": "stream",
     "text": [
      "Идейные\n",
      "соображения\n",
      "высшего\n",
      "порядка\n",
      "а\n",
      "также\n",
      "глубокий\n",
      "уровень\n",
      "погружения\n",
      "не\n",
      "даёт\n",
      "нам\n",
      "иного\n",
      "выбора\n",
      "кроме\n",
      "определения\n",
      "поставленных\n",
      "обществом\n"
     ]
    }
   ],
   "source": [
    "#Под предложением подразумеваю просто текст\n",
    "def split(text):\n",
    "    while len(text) > 0:\n",
    "        index_of_space = text.find(' ')\n",
    "        if index_of_space == -1:\n",
    "            return text\n",
    "        \n",
    "        yield text[0: index_of_space]\n",
    "        text = text[index_of_space + 1:]\n",
    "    \n",
    "text = 'Идейные соображения высшего порядка а также глубокий уровень погружения не даёт нам иного выбора кроме определения поставленных обществом задач'\n",
    "for word in split(text):\n",
    "    print(word)"
   ]
  },
  {
   "cell_type": "markdown",
   "metadata": {},
   "source": [
    "**8. Написать генератор псевдо случайных чисел**\n",
    "* Генератор внутри задается какой-нибудь формулой, которая выдает «случайный» результат\n",
    "* На вход генератору приходит seed – начальное значение, при одинаковых начальных значениях два генератора будут выдавать одинаковые следующие значения"
   ]
  },
  {
   "cell_type": "code",
   "execution_count": 56,
   "metadata": {},
   "outputs": [
    {
     "name": "stdout",
     "output_type": "stream",
     "text": [
      "Без начального значения: 14877 23472 4771 27382 28841 12220 13359 2562 15669 22984 \n",
      "Без начального значения: 15447 16170 16221 18672 26595 10294 5609 15612 10607 26434 \n",
      "С начальным значением 5: 18072 17035 32734 2705 28324 14359 29418 11037 27824 17315 \n",
      "С начальным значением 5: 18072 17035 32734 2705 28324 14359 29418 11037 27824 17315 \n"
     ]
    }
   ],
   "source": [
    "import datetime\n",
    "import itertools\n",
    "\n",
    "def random(seed = None):\n",
    "    if seed is None:\n",
    "        seed = datetime.datetime.now().microsecond\n",
    "    while True:\n",
    "        seed = (8253729 * seed + 2396403) % 32768;\n",
    "        yield seed\n",
    "     \n",
    "    \n",
    "print('Без начального значения: ', end = '')\n",
    "for number in itertools.islice(random(), 10) :\n",
    "    print(number, end = ' ')\n",
    "print('')\n",
    "\n",
    "print('Без начального значения: ', end = '')\n",
    "for number in itertools.islice(random(), 10) :\n",
    "    print(number, end = ' ')\n",
    "print('')\n",
    "\n",
    "print('С начальным значением 5: ', end = '')\n",
    "for number in itertools.islice(random(5), 10) :\n",
    "    print(number, end = ' ')\n",
    "print('')\n",
    "\n",
    "print('С начальным значением 5: ', end = '')\n",
    "for number in itertools.islice(random(5), 10) :\n",
    "    print(number, end = ' ')\n",
    "print('')"
   ]
  },
  {
   "cell_type": "markdown",
   "metadata": {},
   "source": [
    "__9. Написать корутину, которая реализует бесконечную арифметическую прогрессию с возможностью перезапуска с любого места (3, 4, 5, 6, send(30), 31, 32, 33, ...)__"
   ]
  },
  {
   "cell_type": "code",
   "execution_count": 57,
   "metadata": {},
   "outputs": [
    {
     "name": "stdout",
     "output_type": "stream",
     "text": [
      "return 1\n",
      "return 11\n",
      "return 12\n",
      "return 13\n",
      "return 14\n"
     ]
    }
   ],
   "source": [
    "import itertools\n",
    "\n",
    "def progression():\n",
    "    current_number = 1\n",
    "    while True:\n",
    "        input_number = yield current_number\n",
    "        if input_number is not None:\n",
    "            current_number = input_number\n",
    "        current_number += 1\n",
    "        \n",
    "g = progression()\n",
    "print('return', next(g))\n",
    "print('return', g.send(10))\n",
    "print('return', next(g))\n",
    "print('return', next(g))\n",
    "print('return', next(g))"
   ]
  }
 ],
 "metadata": {
  "kernelspec": {
   "display_name": "Python 3",
   "language": "python",
   "name": "python3"
  },
  "language_info": {
   "codemirror_mode": {
    "name": "ipython",
    "version": 3
   },
   "file_extension": ".py",
   "mimetype": "text/x-python",
   "name": "python",
   "nbconvert_exporter": "python",
   "pygments_lexer": "ipython3",
   "version": "3.6.8"
  }
 },
 "nbformat": 4,
 "nbformat_minor": 2
}
