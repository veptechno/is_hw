{
 "cells": [
  {
   "cell_type": "markdown",
   "metadata": {},
   "source": [
    "__Решение задачи об укладке рюкзака с помощью pyeasyga__"
   ]
  },
  {
   "cell_type": "code",
   "execution_count": 12,
   "metadata": {},
   "outputs": [],
   "source": [
    "from pyeasyga import pyeasyga\n",
    "import json\n",
    "\n",
    "data_path = './15.txt'\n",
    "result_path = './result 1.json'"
   ]
  },
  {
   "cell_type": "markdown",
   "metadata": {},
   "source": [
    "__Чтение данных из файла__"
   ]
  },
  {
   "cell_type": "code",
   "execution_count": 2,
   "metadata": {},
   "outputs": [],
   "source": [
    "bag_data = {'max_weight': 0, 'max_volume': 0, 'items': []}\n",
    "\n",
    "def load_data():\n",
    "    f = open(data_path)\n",
    "    \n",
    "    first_line = f.readline().split(' ')\n",
    "    bag_data['max_weight'] = int(first_line[0])\n",
    "    bag_data['max_volume'] = float(first_line[1])\n",
    "    \n",
    "    for line in f:\n",
    "        values = [x for x in line.split(' ')]\n",
    "        bag_data['items'].append({'weight': int(values[0]), 'volume': float(values[1]), 'price': int(values[2])})\n",
    "\n",
    "load_data()"
   ]
  },
  {
   "cell_type": "markdown",
   "metadata": {},
   "source": [
    "__Выбор лучшего \"гена\"__"
   ]
  },
  {
   "cell_type": "code",
   "execution_count": 10,
   "metadata": {},
   "outputs": [],
   "source": [
    "def fitness(individual, data):\n",
    "    weight, volume, price = 0, 0, 0\n",
    "    for (selected, item) in zip(individual, data):\n",
    "        if selected:\n",
    "            weight += item['weight']\n",
    "            volume += item['volume']\n",
    "            price += item['price']\n",
    "\n",
    "    if weight > bag_data['max_weight'] or volume > bag_data['max_volume']:\n",
    "        price = 0\n",
    "\n",
    "    return price\n",
    "\n",
    "ga = pyeasyga.GeneticAlgorithm(bag_data['items'])\n",
    "ga.population_size = 200\n",
    "\n",
    "ga.fitness_function = fitness\n",
    "ga.run()\n",
    "\n",
    "res = ga.best_individual()\n",
    "gene = res[1]"
   ]
  },
  {
   "cell_type": "markdown",
   "metadata": {},
   "source": [
    "__Перевод \"гена\" в конкретные предметы и вывод результата__"
   ]
  },
  {
   "cell_type": "code",
   "execution_count": 13,
   "metadata": {},
   "outputs": [
    {
     "name": "stdout",
     "output_type": "stream",
     "text": [
      "{'weight': 12917, 'volume': 11.999999999999998, 'price': 4364, 'items': [{'weight': 486, 'volume': 0.4, 'price': 385}, {'weight': 182, 'volume': 0.6, 'price': 283}, {'weight': 839, 'volume': 1.0, 'price': 385}, {'weight': 1390, 'volume': 0.4, 'price': 159}, {'weight': 1082, 'volume': 0.7, 'price': 186}, {'weight': 1119, 'volume': 0.5, 'price': 264}, {'weight': 1173, 'volume': 1.0, 'price': 351}, {'weight': 809, 'volume': 1.2, 'price': 336}, {'weight': 415, 'volume': 0.6, 'price': 180}, {'weight': 554, 'volume': 1.0, 'price': 377}, {'weight': 1263, 'volume': 1.0, 'price': 241}, {'weight': 789, 'volume': 1.1, 'price': 335}, {'weight': 325, 'volume': 1.1, 'price': 377}, {'weight': 988, 'volume': 0.6, 'price': 235}, {'weight': 1503, 'volume': 0.8, 'price': 270}]}\n"
     ]
    }
   ],
   "source": [
    "selected_items = [bag_data['items'][index] for index, bit in enumerate(gene) if bit == 1]\n",
    "\n",
    "res = {\n",
    "    'weight': sum([item['weight'] for item in selected_items]),\n",
    "    'volume': sum([item['volume'] for item in selected_items]),\n",
    "    'price': sum([item['price'] for item in selected_items]),\n",
    "    'items': selected_items\n",
    "}\n",
    "\n",
    "with open(result_path, 'w') as file:\n",
    "    json.dump(res, file, indent=2)\n",
    "    \n",
    "print(res)"
   ]
  },
  {
   "cell_type": "code",
   "execution_count": null,
   "metadata": {},
   "outputs": [],
   "source": []
  }
 ],
 "metadata": {
  "kernelspec": {
   "display_name": "Python 3",
   "language": "python",
   "name": "python3"
  },
  "language_info": {
   "codemirror_mode": {
    "name": "ipython",
    "version": 3
   },
   "file_extension": ".py",
   "mimetype": "text/x-python",
   "name": "python",
   "nbconvert_exporter": "python",
   "pygments_lexer": "ipython3",
   "version": "3.6.8"
  }
 },
 "nbformat": 4,
 "nbformat_minor": 2
}
