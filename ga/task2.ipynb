{
 "cells": [
  {
   "cell_type": "markdown",
   "metadata": {},
   "source": [
    "__Решение задачи об укладке рюкзака с помощью собственного алгоритма__\n",
    "\n",
    "Варианты заданий: 1.2, 2.2, 3.2, 4.3, 5.3\n",
    "* жадный выбор, начиная со случайного груза\n",
    "* выбрать только 20% самых приспособленных особей\n",
    "* однородный (каждый бит от случайно выбранного родителя)\n",
    "* добавление 1 случайной вещи 10% особей\n",
    "* замена своих родителей"
   ]
  },
  {
   "cell_type": "code",
   "execution_count": 1,
   "metadata": {},
   "outputs": [],
   "source": [
    "import json\n",
    "import random as rnd\n",
    "\n",
    "data_path = './15.txt'\n",
    "result_path = './result 2.json'"
   ]
  },
  {
   "cell_type": "markdown",
   "metadata": {},
   "source": [
    "__Чтение данных из файла__"
   ]
  },
  {
   "cell_type": "code",
   "execution_count": 2,
   "metadata": {},
   "outputs": [],
   "source": [
    "def load_data():\n",
    "    f = open(data_path)\n",
    "    \n",
    "    \n",
    "    first_line = f.readline().split(' ')\n",
    "    bag_data = {'max_weight': 0, 'max_volume': 0, 'items': []}\n",
    "    bag_data['max_weight'] = int(first_line[0])\n",
    "    bag_data['max_volume'] = float(first_line[1])\n",
    "    \n",
    "    for line in f:\n",
    "        values = [x for x in line.split(' ')]\n",
    "        bag_data['items'].append({'weight': int(values[0]), 'volume': float(values[1]), 'price': int(values[2])})\n",
    "        \n",
    "    return bag_data"
   ]
  },
  {
   "cell_type": "markdown",
   "metadata": {},
   "source": [
    "__Функция приспособления__"
   ]
  },
  {
   "cell_type": "code",
   "execution_count": 3,
   "metadata": {},
   "outputs": [],
   "source": [
    "def fitness(individual, items):\n",
    "    weight, volume, price = 0, 0, 0\n",
    "    for (selected, item) in zip(individual, items):\n",
    "        if selected:\n",
    "            weight += item['weight']\n",
    "            volume += item['volume']\n",
    "            price += item['price']\n",
    "\n",
    "    if weight > max_weight or volume > max_volume:\n",
    "        price = 0\n",
    "\n",
    "    return price"
   ]
  },
  {
   "cell_type": "markdown",
   "metadata": {},
   "source": [
    "__Поиск лучшей особи в популяции на основе функции приспособления__"
   ]
  },
  {
   "cell_type": "code",
   "execution_count": 4,
   "metadata": {},
   "outputs": [],
   "source": [
    "def get_best_individual(population, items):\n",
    "    candidates = []\n",
    "\n",
    "    for ind in population:\n",
    "        candidates.append((fitness(ind, items), ind))\n",
    "\n",
    "    best_ind = candidates[0]\n",
    "    for candidate in candidates:\n",
    "        best_ind = candidate if candidate[0] > best_ind[0] else best_ind\n",
    "\n",
    "    return best_ind"
   ]
  },
  {
   "cell_type": "markdown",
   "metadata": {},
   "source": [
    "__Создание популяции жадным выбором__"
   ]
  },
  {
   "cell_type": "code",
   "execution_count": 37,
   "metadata": {},
   "outputs": [],
   "source": [
    "def create_individual(items):\n",
    "    individual = [0 for x in range(len(items))]\n",
    "    \n",
    "    total_weight = 0\n",
    "    total_volume = 0\n",
    "    \n",
    "    draw_order = [i for i in range(len(items))]\n",
    "    rnd.shuffle(draw_order)\n",
    "    \n",
    "    for index in draw_order:\n",
    "        item = items[index]\n",
    "        \n",
    "        if total_weight + item['weight'] > max_weight or total_volume + item['volume'] > max_volume:\n",
    "            continue\n",
    "        else:\n",
    "            total_weight += item['weight']\n",
    "            total_volume += item['volume']\n",
    "            individual[index] = 1\n",
    "    \n",
    "    return individual\n",
    "\n",
    "def create_population(items, count = 200):\n",
    "    return [create_individual(items) for i in range(count)]"
   ]
  },
  {
   "cell_type": "markdown",
   "metadata": {},
   "source": [
    "__Отбор 20% самых приспособленных особей__"
   ]
  },
  {
   "cell_type": "code",
   "execution_count": 6,
   "metadata": {},
   "outputs": [],
   "source": [
    "def choose_to_crossover(population, items, percent = 20):\n",
    "    count = int(len(population) * percent / 100)\n",
    "    #Округление до чётного нужно, чтобы все родители скрестились\n",
    "    count += count % 2\n",
    "    \n",
    "    fitnessed_population = [(ind, fitness(ind, items)) for ind in population]\n",
    "    fitnessed_population = sorted(population, key = lambda i: i[1], reverse = True)\n",
    "    \n",
    "    return fitnessed_population[0:count]"
   ]
  },
  {
   "cell_type": "markdown",
   "metadata": {},
   "source": [
    "__Однородное скрещивание__"
   ]
  },
  {
   "cell_type": "code",
   "execution_count": 27,
   "metadata": {},
   "outputs": [],
   "source": [
    "def crossover_parents(parent1, parent2, child_count = 2):\n",
    "    parents = [parent1, parent2]\n",
    "    children = []\n",
    "    length = len(parent1)\n",
    "    \n",
    "    for _ in range(child_count):\n",
    "        child = [parents[rnd.randrange(2)][i] for i in range(length)]\n",
    "        children.append(child)\n",
    "        \n",
    "    return children\n",
    "\n",
    "def crossover(population, items):\n",
    "    children = []\n",
    "    parents = [i for i in population]\n",
    "    while len(parents) != 0:\n",
    "        parent1 = rnd.choice(parents)\n",
    "        parents.remove(parent1)\n",
    "        parent2 = rnd.choice(parents)\n",
    "        parents.remove(parent2)\n",
    "        \n",
    "        children.extend(crossover_parents(parent1, parent2))\n",
    "        \n",
    "    return children"
   ]
  },
  {
   "cell_type": "markdown",
   "metadata": {},
   "source": [
    "__Мутация (добавление 1 случайной вещи 10% потомков)__"
   ]
  },
  {
   "cell_type": "code",
   "execution_count": 8,
   "metadata": {},
   "outputs": [],
   "source": [
    "#Если при любых изменениях особь умирает, то мутация не происходит\n",
    "def mutation_individual(individual, items):\n",
    "    unselected_indexes = [index for index, selected in enumerate(individual) if selected == 0]\n",
    "    while len(unselected_indexes) != 0:\n",
    "        index = rnd.choice(unselected_indexes)\n",
    "        individual[index] = 1\n",
    "        if fitness(individual, items) == 0:\n",
    "            individual[index] = 0\n",
    "            unselected_indexes.remove(index)\n",
    "        else:\n",
    "            return\n",
    "        \n",
    "def mutation(population, items):\n",
    "    for individual in population:\n",
    "        mutation_individual(individual, items)"
   ]
  },
  {
   "cell_type": "markdown",
   "metadata": {},
   "source": [
    "__Обновление популяции (все родители замещаются их детьми)__"
   ]
  },
  {
   "cell_type": "code",
   "execution_count": 9,
   "metadata": {},
   "outputs": [],
   "source": [
    "def update_population(population, parents, children):\n",
    "    new_population = []\n",
    "    for individual in population:\n",
    "        if individual in parents:\n",
    "            new_population.append(children.pop())\n",
    "            parents.remove(individual)\n",
    "        else:\n",
    "            new_population.append(individual)\n",
    "    return new_population"
   ]
  },
  {
   "cell_type": "code",
   "execution_count": 32,
   "metadata": {
    "scrolled": true
   },
   "outputs": [],
   "source": [
    "def ga():\n",
    "    population = create_population(items)\n",
    "\n",
    "    for g in range(500):\n",
    "        parents = choose_to_crossover(population, items)\n",
    "\n",
    "        children = crossover(parents, items)\n",
    "\n",
    "        mutation(children, items)\n",
    "\n",
    "        population = update_population(population, parents, children)\n",
    "\n",
    "    return get_best_individual(population, items)"
   ]
  },
  {
   "cell_type": "markdown",
   "metadata": {},
   "source": [
    "__Перевод \"гена\" в конкретные предметы и вывод результата__"
   ]
  },
  {
   "cell_type": "code",
   "execution_count": 42,
   "metadata": {},
   "outputs": [
    {
     "name": "stdout",
     "output_type": "stream",
     "text": [
      "{'weight': 11695, 'volume': 12.0, 'price': 4098, 'items': [{'weight': 486, 'volume': 0.4, 'price': 385}, {'weight': 182, 'volume': 0.6, 'price': 283}, {'weight': 839, 'volume': 1.0, 'price': 385}, {'weight': 1390, 'volume': 0.4, 'price': 159}, {'weight': 425, 'volume': 0.6, 'price': 174}, {'weight': 1082, 'volume': 0.7, 'price': 186}, {'weight': 1119, 'volume': 0.5, 'price': 264}, {'weight': 1173, 'volume': 1.0, 'price': 351}, {'weight': 809, 'volume': 1.2, 'price': 336}, {'weight': 779, 'volume': 1.0, 'price': 180}, {'weight': 415, 'volume': 0.6, 'price': 180}, {'weight': 554, 'volume': 1.0, 'price': 377}, {'weight': 1084, 'volume': 0.5, 'price': 112}, {'weight': 685, 'volume': 0.4, 'price': 103}, {'weight': 325, 'volume': 1.1, 'price': 377}, {'weight': 348, 'volume': 1.0, 'price': 246}]}\n"
     ]
    }
   ],
   "source": [
    "bag_data = load_data()\n",
    "max_weight = bag_data['max_weight']\n",
    "max_volume = bag_data['max_volume']\n",
    "items = bag_data['items']\n",
    "\n",
    "gene = ga()[1]\n",
    "selected_items = [items[index] for index, bit in enumerate(gene) if bit == 1]\n",
    "\n",
    "res = {\n",
    "    'weight': sum([item['weight'] for item in selected_items]),\n",
    "    'volume': sum([item['volume'] for item in selected_items]),\n",
    "    'price': sum([item['price'] for item in selected_items]),\n",
    "    'items': selected_items\n",
    "}\n",
    "\n",
    "with open(result_path, 'w') as file:\n",
    "    json.dump(res, file, indent=2)\n",
    "    \n",
    "print(res)"
   ]
  }
 ],
 "metadata": {
  "kernelspec": {
   "display_name": "Python 3",
   "language": "python",
   "name": "python3"
  },
  "language_info": {
   "codemirror_mode": {
    "name": "ipython",
    "version": 3
   },
   "file_extension": ".py",
   "mimetype": "text/x-python",
   "name": "python",
   "nbconvert_exporter": "python",
   "pygments_lexer": "ipython3",
   "version": "3.6.8"
  }
 },
 "nbformat": 4,
 "nbformat_minor": 2
}
