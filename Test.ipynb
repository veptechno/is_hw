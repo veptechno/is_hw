{
 "cells": [
  {
   "cell_type": "code",
   "execution_count": 1,
   "metadata": {},
   "outputs": [],
   "source": [
    "import csv\n",
    "from functools import reduce\n",
    "import math\n",
    "import json"
   ]
  },
  {
   "cell_type": "code",
   "execution_count": 2,
   "metadata": {},
   "outputs": [],
   "source": [
    "class User: # пользователь\n",
    "    name = ''\n",
    "    movie_rates = {}\n",
    "    avg_rate = 0\n",
    "    sim_users = {}"
   ]
  },
  {
   "cell_type": "code",
   "execution_count": 3,
   "metadata": {},
   "outputs": [],
   "source": [
    "def parse_movie_names(row):\n",
    "    row = list(map(lambda name: name.strip(), row))\n",
    "    return list(filter(lambda name: name != '', row))"
   ]
  },
  {
   "cell_type": "code",
   "execution_count": 4,
   "metadata": {},
   "outputs": [],
   "source": [
    "def load_users(filename):\n",
    "    data_file = open(filename)\n",
    "    reader = csv.reader(data_file)\n",
    "    \n",
    "    movie_names = parse_movie_names(next(reader))\n",
    "    users = {}\n",
    "    \n",
    "    for row in reader:\n",
    "        user = User()\n",
    "        user.name = row[0]\n",
    "        user.movie_rates = dict(zip(movie_names, [int(rate) for rate in row[1:]]))\n",
    "        \n",
    "        users[user.name] = user\n",
    "        \n",
    "    return users"
   ]
  },
  {
   "cell_type": "code",
   "execution_count": 52,
   "metadata": {},
   "outputs": [],
   "source": [
    "def calculate_avg_rate(user): # считаем среднее\n",
    "    valid_rates = list(filter(lambda rate: rate != -1, user.movie_rates.values()))\n",
    "    return reduce(lambda summ, rate: summ + rate, valid_rates, 0) / len(valid_rates)"
   ]
  },
  {
   "cell_type": "code",
   "execution_count": 6,
   "metadata": {},
   "outputs": [],
   "source": [
    "def set_metric(users): # составляем метрику сходства\n",
    "    for first_user in users.values(): \n",
    "        first_user.sim_users = {first_user: 0}\n",
    "        for second_user in users.values():\n",
    "            if first_user.name == second_user.name:\n",
    "                continue\n",
    "            s = 0\n",
    "            sq1 = 0\n",
    "            sq2 = 0\n",
    "            for movie_name in first_user.movie_rates.keys():\n",
    "                if first_user.movie_rates[movie_name] != -1 and second_user.movie_rates[movie_name] != -1:\n",
    "                    s += first_user.movie_rates[movie_name] * second_user.movie_rates[movie_name]\n",
    "                    sq1 += math.pow(first_user.movie_rates[movie_name], 2)\n",
    "                    sq2 += math.pow(second_user.movie_rates[movie_name], 2)\n",
    "            sq1 = math.sqrt(sq1)\n",
    "            sq2 = math.sqrt(sq2)\n",
    "            sq = sq1 * sq2\n",
    "            first_user.sim_users[second_user] = s / (sq) if sq != 0 else 0 "
   ]
  },
  {
   "cell_type": "code",
   "execution_count": 31,
   "metadata": {},
   "outputs": [],
   "source": [
    "def compute_missed_rates(user, k):\n",
    "    sorted_sim_users = s = [u[0] for u in sorted(user.sim_users.items(), key=lambda d: d[1], reverse=True)]\n",
    "    \n",
    "    for (movie_name, movie_rate) in user.movie_rates.items():\n",
    "        if (movie_rate != -1):\n",
    "            continue\n",
    "        \n",
    "        summ1 = 0\n",
    "        summ2 = 0\n",
    "        for other_user in sorted_sim_users[:k]:\n",
    "            if(other_user.movie_rates[movie_name] != -1):\n",
    "                summ1 += user.sim_users[other_user] * (other_user.movie_rates[movie_name] - other_user.avg_rate)\n",
    "                summ2 += user.sim_users[other_user]\n",
    "                \n",
    "        user.movie_rates[movie_name] = round(user.avg_rate + summ1/summ2, 3)"
   ]
  },
  {
   "cell_type": "code",
   "execution_count": 51,
   "metadata": {},
   "outputs": [
    {
     "name": "stdout",
     "output_type": "stream",
     "text": [
      "User 1 62 21 2.9523809523809526\n",
      "User 2 79 24 3.2916666666666665\n",
      "User 3 70 25 2.8\n",
      "User 4 66 21 3.142857142857143\n",
      "User 5 86 26 3.3076923076923075\n",
      "User 6 79 25 3.16\n",
      "User 7 72 25 2.88\n",
      "User 8 79 24 3.2916666666666665\n",
      "User 9 73 26 2.8076923076923075\n",
      "User 10 68 25 2.72\n",
      "User 11 75 24 3.125\n",
      "User 12 100 26 3.8461538461538463\n",
      "User 13 82 26 3.1538461538461537\n",
      "User 14 75 25 3.0\n",
      "User 15 81 24 3.375\n",
      "User 16 92 27 3.4074074074074074\n",
      "User 17 66 22 3.0\n",
      "User 18 73 27 2.7037037037037037\n",
      "User 19 75 24 3.125\n",
      "User 20 70 22 3.1818181818181817\n",
      "User 21 74 25 2.96\n",
      "User 22 74 23 3.217391304347826\n",
      "User 23 78 23 3.391304347826087\n",
      "User 24 76 27 2.814814814814815\n",
      "User 25 69 25 2.76\n",
      "User 26 73 25 2.92\n",
      "User 27 80 24 3.3333333333333335\n",
      "User 28 76 26 2.923076923076923\n",
      "User 29 80 25 3.2\n",
      "User 30 83 28 2.9642857142857144\n",
      "User 31 83 27 3.074074074074074\n",
      "User 32 81 27 3.0\n",
      "User 33 72 26 2.769230769230769\n",
      "User 34 73 24 3.0416666666666665\n",
      "User 35 73 23 3.1739130434782608\n",
      "User 36 75 24 3.125\n",
      "User 37 78 24 3.25\n",
      "User 38 72 24 3.0\n",
      "User 39 67 25 2.68\n",
      "User 40 80 27 2.962962962962963\n",
      "---------\n",
      "3.152\n"
     ]
    },
    {
     "data": {
      "text/plain": [
       "'\\nfor movie_name, movie_rate in required_user.movie_rates.items():\\n    print(movie_name, movie_rate)\\n'"
      ]
     },
     "execution_count": 51,
     "metadata": {},
     "output_type": "execute_result"
    }
   ],
   "source": [
    "users = load_users('./data.csv')\n",
    "set_metric(users)\n",
    "for user in users.values():\n",
    "    user.avg_rate = calculate_avg_rate(user)\n",
    "user_nm = 'User 1'\n",
    "required_user = users[user_nm]\n",
    "print('---------')\n",
    "compute_missed_rates(required_user, 7)\n",
    "print(required_user.movie_rates['Movie 1'])\n",
    "'''\n",
    "for movie_name, movie_rate in required_user.movie_rates.items():\n",
    "    print(movie_name, movie_rate)\n",
    "'''"
   ]
  },
  {
   "cell_type": "code",
   "execution_count": null,
   "metadata": {},
   "outputs": [],
   "source": []
  }
 ],
 "metadata": {
  "kernelspec": {
   "display_name": "Python 3",
   "language": "python",
   "name": "python3"
  },
  "language_info": {
   "codemirror_mode": {
    "name": "ipython",
    "version": 3
   },
   "file_extension": ".py",
   "mimetype": "text/x-python",
   "name": "python",
   "nbconvert_exporter": "python",
   "pygments_lexer": "ipython3",
   "version": "3.6.8"
  }
 },
 "nbformat": 4,
 "nbformat_minor": 2
}
